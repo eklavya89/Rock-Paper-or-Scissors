{
  "nbformat": 4,
  "nbformat_minor": 0,
  "metadata": {
    "colab": {
      "name": "1. Python 101 - Variables Assignment, Math Ops, Precedence, and Print/Get - Skeleton.ipynb",
      "provenance": [],
      "collapsed_sections": [],
      "toc_visible": true,
      "include_colab_link": true
    },
    "kernelspec": {
      "name": "python3",
      "display_name": "Python 3"
    }
  },
  "cells": [
    {
      "cell_type": "markdown",
      "metadata": {
        "id": "view-in-github",
        "colab_type": "text"
      },
      "source": [
        "<a href=\"https://colab.research.google.com/github/eklavya89/codeacademy-sample-projects-/blob/master/1_Python_101_Variables_Assignment%2C_Math_Ops%2C_Precedence%2C_and_Print_Get_Skeleton.ipynb\" target=\"_parent\"><img src=\"https://colab.research.google.com/assets/colab-badge.svg\" alt=\"Open In Colab\"/></a>"
      ]
    },
    {
      "cell_type": "markdown",
      "metadata": {
        "id": "B1KBXIYhkuw5"
      },
      "source": [
        "# 1. VARIABLES ASSIGNMENT"
      ]
    },
    {
      "cell_type": "code",
      "metadata": {
        "id": "wsrqiWxMlQcd"
      },
      "source": [
        "# Define a variable named \"portfolio_1\" and assign a number (integer) to it\n"
      ],
      "execution_count": null,
      "outputs": []
    },
    {
      "cell_type": "code",
      "metadata": {
        "id": "5JhWpIYFlNKp"
      },
      "source": [
        "portfolio_1 = 10"
      ],
      "execution_count": 43,
      "outputs": []
    },
    {
      "cell_type": "code",
      "metadata": {
        "id": "CHDwaHFFlYzT",
        "outputId": "aadd54cc-f348-4ae0-f7ea-eaea3efa9d23",
        "colab": {
          "base_uri": "https://localhost:8080/"
        }
      },
      "source": [
        "portfolio_1"
      ],
      "execution_count": 4,
      "outputs": [
        {
          "output_type": "execute_result",
          "data": {
            "text/plain": [
              "10"
            ]
          },
          "metadata": {
            "tags": []
          },
          "execution_count": 4
        }
      ]
    },
    {
      "cell_type": "code",
      "metadata": {
        "id": "_7BUQ4lalVpE"
      },
      "source": [
        "# Let's view \"portfolio_1\"\n"
      ],
      "execution_count": null,
      "outputs": []
    },
    {
      "cell_type": "code",
      "metadata": {
        "id": "5RLjbN6alXBn"
      },
      "source": [
        "# Define a variable named \"portfolio_2\" and assign a number (float) to it\n"
      ],
      "execution_count": null,
      "outputs": []
    },
    {
      "cell_type": "code",
      "metadata": {
        "id": "auXLv2VrlkyW"
      },
      "source": [
        "portfolio_2 = 2.0"
      ],
      "execution_count": 5,
      "outputs": []
    },
    {
      "cell_type": "code",
      "metadata": {
        "id": "XaseHcnvlY7V"
      },
      "source": [
        "# Let's view \"portfolio_2\"\n"
      ],
      "execution_count": null,
      "outputs": []
    },
    {
      "cell_type": "code",
      "metadata": {
        "id": "ca-l0VzclrlS",
        "outputId": "a18d3c35-c7ca-47ee-d4c6-f20793459058",
        "colab": {
          "base_uri": "https://localhost:8080/"
        }
      },
      "source": [
        "portfolio_2"
      ],
      "execution_count": 6,
      "outputs": [
        {
          "output_type": "execute_result",
          "data": {
            "text/plain": [
              "2.0"
            ]
          },
          "metadata": {
            "tags": []
          },
          "execution_count": 6
        }
      ]
    },
    {
      "cell_type": "code",
      "metadata": {
        "id": "1treMfL5phXx"
      },
      "source": [
        "# Let's overwrite \"portfolio_2\" (assume your portfolio value increased)\n"
      ],
      "execution_count": null,
      "outputs": []
    },
    {
      "cell_type": "code",
      "metadata": {
        "id": "bopSe4Sjlwx3"
      },
      "source": [
        "portfolio_2 = 5.0"
      ],
      "execution_count": 8,
      "outputs": []
    },
    {
      "cell_type": "code",
      "metadata": {
        "id": "VlkbhiAwl1S2",
        "outputId": "25eb9315-38c4-41a7-89dc-593e7f948e81",
        "colab": {
          "base_uri": "https://localhost:8080/"
        }
      },
      "source": [
        "portfolio_2"
      ],
      "execution_count": 9,
      "outputs": [
        {
          "output_type": "execute_result",
          "data": {
            "text/plain": [
              "5.0"
            ]
          },
          "metadata": {
            "tags": []
          },
          "execution_count": 9
        }
      ]
    },
    {
      "cell_type": "code",
      "metadata": {
        "id": "QaBaDH0fp5cf"
      },
      "source": [
        "# Notice that \"portfolio_2\" will only contain the most recent value\n"
      ],
      "execution_count": null,
      "outputs": []
    },
    {
      "cell_type": "code",
      "metadata": {
        "id": "fqZRkUkilb-5"
      },
      "source": [
        "# Get the type of \"portfolio_1\" which is integer\n",
        "# integer is a whole number (no decimals) that could be positive or negative\n"
      ],
      "execution_count": null,
      "outputs": []
    },
    {
      "cell_type": "code",
      "metadata": {
        "id": "T0Rszu5xlceK"
      },
      "source": [
        "# Get the type of \"portfolio_2\" which is float\n",
        "# Float are real numbers with a decimal point dividing the integer and fractional parts\n"
      ],
      "execution_count": null,
      "outputs": []
    },
    {
      "cell_type": "markdown",
      "metadata": {
        "id": "75YN6NcVlv50"
      },
      "source": [
        "**MINI CHALLENGE #1:**\n",
        "- **We defined a variable AMZN (Ticker symbol for Amazon stock) and we assigned these 3 values listed below to it. Without executing any code cells, what will these lines of code generate?**\n",
        "- **Verify your answer by executing the code cells** \n",
        "\n",
        "\n",
        "\n",
        "```\n",
        "AMZN = 3324\n",
        "AMZN = 3400\n",
        "AMZN = 3530\n",
        "AMZN\n",
        "```\n"
      ]
    },
    {
      "cell_type": "code",
      "metadata": {
        "id": "AbXq1BsUpcpu",
        "outputId": "fc09c234-aa4d-4804-bd5f-225fe2fe0cb5",
        "colab": {
          "base_uri": "https://localhost:8080/"
        }
      },
      "source": [
        "AMZN = 3324\n",
        "AMZN = 3400\n",
        "AMZN = 3530\n",
        "AMZN"
      ],
      "execution_count": 11,
      "outputs": [
        {
          "output_type": "execute_result",
          "data": {
            "text/plain": [
              "3530"
            ]
          },
          "metadata": {
            "tags": []
          },
          "execution_count": 11
        }
      ]
    },
    {
      "cell_type": "markdown",
      "metadata": {
        "id": "m-cJsnjeoFOa"
      },
      "source": [
        "**MINI CHALLENGE #2:**\n",
        "- **We defined a variable AAPL (Ticker symbol for Apple stock) and we assigned these 2 values listed below to it. Without executing any code cells, what will these lines of code generate?**\n",
        "- **Verify your answer by executing the code cells** \n",
        "\n",
        "\n",
        "\n",
        "```\n",
        "AAPL = 112\n",
        "AAPL = 115.3\n",
        "type(AAPL)\n",
        "```\n"
      ]
    },
    {
      "cell_type": "code",
      "metadata": {
        "id": "wjaFVDJ2oESl",
        "outputId": "ea3e0eda-caf7-4520-9237-336186a54571",
        "colab": {
          "base_uri": "https://localhost:8080/"
        }
      },
      "source": [
        "AAPL = 112\n",
        "AAPL = 115.3\n",
        "type(AAPL)\n"
      ],
      "execution_count": 12,
      "outputs": [
        {
          "output_type": "execute_result",
          "data": {
            "text/plain": [
              "float"
            ]
          },
          "metadata": {
            "tags": []
          },
          "execution_count": 12
        }
      ]
    },
    {
      "cell_type": "markdown",
      "metadata": {
        "id": "lsCfJJEkkqGQ"
      },
      "source": [
        "# 2. MATH OPERATIONS"
      ]
    },
    {
      "cell_type": "code",
      "metadata": {
        "id": "vxspxvj2qTrx"
      },
      "source": [
        "# Define a variable named AAPL and initialize it with 5 indicating that we own 5 stocks\n",
        "# Let's assume that we bought an additional stock so now we have 6 stocks instead of 5 \n",
        "# We can increment AAPL by 1 stock as follows:\n"
      ],
      "execution_count": null,
      "outputs": []
    },
    {
      "cell_type": "code",
      "metadata": {
        "id": "s-8y7mXDnsed"
      },
      "source": [
        "AAPL = 5"
      ],
      "execution_count": 16,
      "outputs": []
    },
    {
      "cell_type": "code",
      "metadata": {
        "id": "sh-1d8BbnyJM",
        "outputId": "6a78f5b8-5cf0-4012-ed65-6e3342cb1081",
        "colab": {
          "base_uri": "https://localhost:8080/"
        }
      },
      "source": [
        "AAPL + 1"
      ],
      "execution_count": 17,
      "outputs": [
        {
          "output_type": "execute_result",
          "data": {
            "text/plain": [
              "6"
            ]
          },
          "metadata": {
            "tags": []
          },
          "execution_count": 17
        }
      ]
    },
    {
      "cell_type": "code",
      "metadata": {
        "id": "ouiM4Bjar5aG"
      },
      "source": [
        "# Alternatively, we can increment the variable AAPL by 1 as follows:\n"
      ],
      "execution_count": null,
      "outputs": []
    },
    {
      "cell_type": "code",
      "metadata": {
        "id": "zkO001-qcZc3"
      },
      "source": [
        "# Let's assume that the price of AAPL stock is $260 and we currently have 5 AAPL stocks in our portfolio\n",
        "# We can calculate the total portfolio value (account balance) as follows:\n"
      ],
      "execution_count": null,
      "outputs": []
    },
    {
      "cell_type": "code",
      "metadata": {
        "id": "tl_PrjjKoEVR"
      },
      "source": [
        "AAPL = 5"
      ],
      "execution_count": null,
      "outputs": []
    },
    {
      "cell_type": "code",
      "metadata": {
        "id": "gyXRuS-moIZV",
        "outputId": "2981f0f3-43bf-435e-fef8-fb3d4788ffd3",
        "colab": {
          "base_uri": "https://localhost:8080/"
        }
      },
      "source": [
        "AAPL * 260"
      ],
      "execution_count": 18,
      "outputs": [
        {
          "output_type": "execute_result",
          "data": {
            "text/plain": [
              "1300"
            ]
          },
          "metadata": {
            "tags": []
          },
          "execution_count": 18
        }
      ]
    },
    {
      "cell_type": "code",
      "metadata": {
        "id": "4bXP93aqejr1"
      },
      "source": [
        "# Let's assume you have $20000 USD in our account\n",
        "# We want to buy AMZN stocks using the total amount \n",
        "# AMZN stock is priced at $3116 each\n",
        "Account = 20000\n",
        "AMZN = 3116\n"
      ],
      "execution_count": 22,
      "outputs": []
    },
    {
      "cell_type": "code",
      "metadata": {
        "id": "Mc569vLOqxzg",
        "outputId": "66ef8772-09b1-41a8-96a5-7d0b07f01d8b",
        "colab": {
          "base_uri": "https://localhost:8080/"
        }
      },
      "source": [
        "# Divide the account balance by Amazon stock price and place the answer in units\n",
        "units = Account / AMZN\n",
        "units\n"
      ],
      "execution_count": 25,
      "outputs": [
        {
          "output_type": "execute_result",
          "data": {
            "text/plain": [
              "6.418485237483954"
            ]
          },
          "metadata": {
            "tags": []
          },
          "execution_count": 25
        }
      ]
    },
    {
      "cell_type": "markdown",
      "metadata": {
        "id": "8UaT7FRdNnCQ"
      },
      "source": [
        "**MINI CHALLENGE #3:** \n",
        "- **Write a code that calculates the total value of a portfolio assuming that you own 15 Google stocks (Sticker Symbol: GOOG) priced at 1500 each** \n"
      ]
    },
    {
      "cell_type": "code",
      "metadata": {
        "id": "qMFnXorONnoa",
        "outputId": "8dc75f08-21f4-4220-e9ec-b7011f2b2738",
        "colab": {
          "base_uri": "https://localhost:8080/"
        }
      },
      "source": [
        "GOOG = 1500\n",
        "portfolio = GOOG*15\n",
        "portfolio"
      ],
      "execution_count": 27,
      "outputs": [
        {
          "output_type": "execute_result",
          "data": {
            "text/plain": [
              "22500"
            ]
          },
          "metadata": {
            "tags": []
          },
          "execution_count": 27
        }
      ]
    },
    {
      "cell_type": "markdown",
      "metadata": {
        "id": "iB_6pgJeNnCV"
      },
      "source": [
        "**MINI CHALLENGE #4:**\n",
        "- **Write a code that takes in Google (GOOG) stock prices at two days and calculate the return:**\n",
        "  - **GOOG price on day 1 = \\$260** \n",
        "  - **GOOG price on day 2 = \\$280**"
      ]
    },
    {
      "cell_type": "code",
      "metadata": {
        "id": "MZbfbVmVpAyT",
        "outputId": "1cad04b2-3048-4286-af0f-be6667045682",
        "colab": {
          "base_uri": "https://localhost:8080/"
        }
      },
      "source": [
        "GOOG_day1 = 260\n",
        "GOOG_day2 = 280\n",
        "total  = GOOG_day2 - GOOG_day1\n",
        "total"
      ],
      "execution_count": 31,
      "outputs": [
        {
          "output_type": "execute_result",
          "data": {
            "text/plain": [
              "20"
            ]
          },
          "metadata": {
            "tags": []
          },
          "execution_count": 31
        }
      ]
    },
    {
      "cell_type": "markdown",
      "metadata": {
        "id": "b_4wxmCklMQE"
      },
      "source": [
        "# 3. ORDER OF OPERATIONS (PRECEDENCE)"
      ]
    },
    {
      "cell_type": "code",
      "metadata": {
        "id": "PDPpISzEkov3",
        "outputId": "c71ac0a6-710f-4451-f11c-f796dadd6753",
        "colab": {
          "base_uri": "https://localhost:8080/"
        }
      },
      "source": [
        "# add 3 and 4 and then multiply the answer by 5\n",
        "# Note that parantheses have the highest precedence\n",
        "number = 3 + 4 * 5\n",
        "number"
      ],
      "execution_count": 32,
      "outputs": [
        {
          "output_type": "execute_result",
          "data": {
            "text/plain": [
              "23"
            ]
          },
          "metadata": {
            "tags": []
          },
          "execution_count": 32
        }
      ]
    },
    {
      "cell_type": "code",
      "metadata": {
        "id": "lqvGyX4psG6L"
      },
      "source": [
        "# Multiplication has higher precedence compared to addition\n"
      ],
      "execution_count": null,
      "outputs": []
    },
    {
      "cell_type": "code",
      "metadata": {
        "id": "Nx2IPN34sI0A"
      },
      "source": [
        "# Division has higher precedence compared to addition\n"
      ],
      "execution_count": null,
      "outputs": []
    },
    {
      "cell_type": "code",
      "metadata": {
        "id": "A-sBw_wsdRTc"
      },
      "source": [
        ""
      ],
      "execution_count": null,
      "outputs": []
    },
    {
      "cell_type": "markdown",
      "metadata": {
        "id": "LD0jeVJddRrf"
      },
      "source": [
        "**MINI CHALLENGE #5:**\n",
        "- **Assume that you own 15 shares of AAPL stock priced at \\$150 a share. Apple announced the launch of 5 new products with exceptional features so the stock price increased to $170 a share. Calculate the total profit.**\n",
        "\n",
        "\n",
        "\n",
        "\n"
      ]
    },
    {
      "cell_type": "code",
      "metadata": {
        "id": "ieENt2DUNwDC",
        "outputId": "607f41cb-4883-42fd-ea84-13c777a5a257",
        "colab": {
          "base_uri": "https://localhost:8080/"
        }
      },
      "source": [
        "APPL = 150\n",
        "portolio = APPL * 15\n",
        "APPL = 170\n",
        "portolio2 = APPL * 15\n",
        "profit = portolio - portolio2\n",
        "profit"
      ],
      "execution_count": 35,
      "outputs": [
        {
          "output_type": "execute_result",
          "data": {
            "text/plain": [
              "-300"
            ]
          },
          "metadata": {
            "tags": []
          },
          "execution_count": 35
        }
      ]
    },
    {
      "cell_type": "markdown",
      "metadata": {
        "id": "s79S7MtycPGX"
      },
      "source": [
        "**MINI CHALLENGE #6:** \n",
        "- **Write a code that performs the following mathematical operation: z = |x − y| * (x + y)**"
      ]
    },
    {
      "cell_type": "code",
      "metadata": {
        "id": "yGVvKkDKc0LR",
        "outputId": "8454146f-f14b-47cf-adf5-6f00cb59d061",
        "colab": {
          "base_uri": "https://localhost:8080/",
          "height": 129
        }
      },
      "source": [
        "x = 10\n",
        "y = 20\n",
        "z = |x - y| * (x + y)\n",
        "z\n",
        "               "
      ],
      "execution_count": 40,
      "outputs": [
        {
          "output_type": "error",
          "ename": "SyntaxError",
          "evalue": "ignored",
          "traceback": [
            "\u001b[0;36m  File \u001b[0;32m\"<ipython-input-40-bd0dd45cca35>\"\u001b[0;36m, line \u001b[0;32m3\u001b[0m\n\u001b[0;31m    z = |x - y| * (x + y)\u001b[0m\n\u001b[0m        ^\u001b[0m\n\u001b[0;31mSyntaxError\u001b[0m\u001b[0;31m:\u001b[0m invalid syntax\n"
          ]
        }
      ]
    },
    {
      "cell_type": "markdown",
      "metadata": {
        "id": "Jvxd_A696qnl"
      },
      "source": [
        "# 4. PRINT OPERATION"
      ]
    },
    {
      "cell_type": "code",
      "metadata": {
        "id": "74NV4Ix36wE2"
      },
      "source": [
        "# Print function is used to print elements on the screen\n",
        "# Define a string x \n",
        "# A string in Python is a sequence of characters\n",
        "# String in python are surrounded by single or double quotation marks\n"
      ],
      "execution_count": null,
      "outputs": []
    },
    {
      "cell_type": "code",
      "metadata": {
        "id": "08UQhKoR8d3H",
        "outputId": "77d98028-bb2e-459f-f178-ab98db4e9331",
        "colab": {
          "base_uri": "https://localhost:8080/"
        }
      },
      "source": [
        "# Obtain the data type for 'x'\n",
        "x = 'x'\n",
        "type(x)\n"
      ],
      "execution_count": 44,
      "outputs": [
        {
          "output_type": "execute_result",
          "data": {
            "text/plain": [
              "str"
            ]
          },
          "metadata": {
            "tags": []
          },
          "execution_count": 44
        }
      ]
    },
    {
      "cell_type": "code",
      "metadata": {
        "id": "1nHBcL7D61YQ"
      },
      "source": [
        "# Print x\n"
      ],
      "execution_count": null,
      "outputs": []
    },
    {
      "cell_type": "code",
      "metadata": {
        "id": "7JUqe3DF7WQv"
      },
      "source": [
        "# Define a string and put 'Apple Inc.' in it\n",
        "company_name = 'Apple Inc'\n"
      ],
      "execution_count": 3,
      "outputs": []
    },
    {
      "cell_type": "code",
      "metadata": {
        "id": "J_r5_BGt7Wsg",
        "outputId": "7ddb1ea1-7714-452b-e162-b32e449f0f70",
        "colab": {
          "base_uri": "https://localhost:8080/"
        }
      },
      "source": [
        "# The format() method formats the specified value and insert it in the placeholder. \n",
        "# The placeholder is defined using curly braces: {}\n",
        "print('Ticker name for {} is APPL.'.format(company_name))"
      ],
      "execution_count": 5,
      "outputs": [
        {
          "output_type": "stream",
          "text": [
            "Ticker name for Apple Inc is APPL.\n"
          ],
          "name": "stdout"
        }
      ]
    },
    {
      "cell_type": "code",
      "metadata": {
        "id": "cn5wkGcL7Wqs"
      },
      "source": [
        "shares = 30"
      ],
      "execution_count": 6,
      "outputs": []
    },
    {
      "cell_type": "code",
      "metadata": {
        "id": "mcIEXuw47Wpk",
        "outputId": "725b7d7c-7da4-46dc-ffd5-f7a8a01f8128",
        "colab": {
          "base_uri": "https://localhost:8080/"
        }
      },
      "source": [
        "# You can place two or more placeholders with print function \n",
        "print('i own {} shares of {}'.format(shares, company_name))"
      ],
      "execution_count": 7,
      "outputs": [
        {
          "output_type": "stream",
          "text": [
            "i own 20 shares of Apple Inc\n"
          ],
          "name": "stdout"
        }
      ]
    },
    {
      "cell_type": "markdown",
      "metadata": {
        "id": "__Ybj8rmGKpY"
      },
      "source": [
        "**MINI CHALLENGE #7:**\n",
        "- **Write a code that print out the above statement along with AAPL ticker**\n",
        "- **i.e.: I own 30 shares of Apple Inc.(AAPL)** "
      ]
    },
    {
      "cell_type": "code",
      "metadata": {
        "id": "i6LmOCF6Gd6G",
        "outputId": "d96a5ae9-65b1-4398-fa6d-50fc7e8dd1e8",
        "colab": {
          "base_uri": "https://localhost:8080/"
        }
      },
      "source": [
        "ticker = 'APPL'\n",
        "print('i own {} of {}.({})'.format(shares, company_name, ticker))"
      ],
      "execution_count": 10,
      "outputs": [
        {
          "output_type": "stream",
          "text": [
            "i own 20 of Apple Inc.(APPL)\n"
          ],
          "name": "stdout"
        }
      ]
    },
    {
      "cell_type": "markdown",
      "metadata": {
        "id": "hp9P-qXN-Gll"
      },
      "source": [
        "# 5. GET USER INPUT"
      ]
    },
    {
      "cell_type": "code",
      "metadata": {
        "id": "FFghOQVi7Wh_",
        "outputId": "01fb72ad-1559-474a-96e3-c4f46061ac7f",
        "colab": {
          "base_uri": "https://localhost:8080/"
        }
      },
      "source": [
        "# input is a built-in function in python\n",
        "# Get bank client name as an input and print it out on the screen \n",
        "name = input(\"welcome to the bank, what's your name: \")\n"
      ],
      "execution_count": 11,
      "outputs": [
        {
          "output_type": "stream",
          "text": [
            "welcome to the bank, what's your name: nitesh\n"
          ],
          "name": "stdout"
        }
      ]
    },
    {
      "cell_type": "code",
      "metadata": {
        "id": "DKKb7f0C2xB4",
        "outputId": "1c21ca35-2874-4349-fbea-aea2c7c840c1",
        "colab": {
          "base_uri": "https://localhost:8080/",
          "height": 35
        }
      },
      "source": [
        "name"
      ],
      "execution_count": 12,
      "outputs": [
        {
          "output_type": "execute_result",
          "data": {
            "application/vnd.google.colaboratory.intrinsic+json": {
              "type": "string"
            },
            "text/plain": [
              "'nitesh'"
            ]
          },
          "metadata": {
            "tags": []
          },
          "execution_count": 12
        }
      ]
    },
    {
      "cell_type": "code",
      "metadata": {
        "id": "u4D5GDGP7Wgm",
        "outputId": "2a3016a8-0c18-4a83-d66f-3d71b91f483b",
        "colab": {
          "base_uri": "https://localhost:8080/"
        }
      },
      "source": [
        "# Obtain bank client data such as name, age and assets and print them all out on the screen\n",
        "name = input('welcome to the bank, please enter your name:')\n",
        "age = input('enter your age:')\n",
        "networth = input('enter your total networth(assets - liabilities ')\n",
        "print( ' My name is {}, I am {} years old, and my net worth is {}'.format(name, age, networth))"
      ],
      "execution_count": 4,
      "outputs": [
        {
          "output_type": "stream",
          "text": [
            "welcome to the bank, please enter your name:nitesh\n",
            "enter your age:31\n",
            "enter your total networth(assets - liabilities 20lac\n",
            " My name is nitesh, I am 31 years old, and my net worth is 20lac\n"
          ],
          "name": "stdout"
        }
      ]
    },
    {
      "cell_type": "code",
      "metadata": {
        "id": "uyGwPqWOoEtD"
      },
      "source": [
        ""
      ],
      "execution_count": null,
      "outputs": []
    },
    {
      "cell_type": "code",
      "metadata": {
        "id": "W6hQp4YP7Wdr",
        "outputId": "63529685-efec-4d51-8b5d-24b4d597aa0c",
        "colab": {
          "base_uri": "https://localhost:8080/",
          "height": 248
        }
      },
      "source": [
        "# Obtain user inputs, perform mathematical operation, and print the results \n",
        "# Note: Are you getting an error? Move to the next code cell \n",
        "x = input('please enter the price of AAPL stock today')\n",
        "y = input('Enter the number of AAPL stocks theat you want to buy')\n",
        "print('Total funds required to buy {} shares of AAPL stock at {} dollars is {}'.format(y,x, x*y))\n"
      ],
      "execution_count": 5,
      "outputs": [
        {
          "output_type": "stream",
          "text": [
            "please enter the price of AAPL stock today3000\n",
            "Enter the number of AAPL stocks theat you want to buy20\n"
          ],
          "name": "stdout"
        },
        {
          "output_type": "error",
          "ename": "TypeError",
          "evalue": "ignored",
          "traceback": [
            "\u001b[0;31m---------------------------------------------------------------------------\u001b[0m",
            "\u001b[0;31mTypeError\u001b[0m                                 Traceback (most recent call last)",
            "\u001b[0;32m<ipython-input-5-687cda13b110>\u001b[0m in \u001b[0;36m<module>\u001b[0;34m()\u001b[0m\n\u001b[1;32m      3\u001b[0m \u001b[0mx\u001b[0m \u001b[0;34m=\u001b[0m \u001b[0minput\u001b[0m\u001b[0;34m(\u001b[0m\u001b[0;34m'please enter the price of AAPL stock today'\u001b[0m\u001b[0;34m)\u001b[0m\u001b[0;34m\u001b[0m\u001b[0;34m\u001b[0m\u001b[0m\n\u001b[1;32m      4\u001b[0m \u001b[0my\u001b[0m \u001b[0;34m=\u001b[0m \u001b[0minput\u001b[0m\u001b[0;34m(\u001b[0m\u001b[0;34m'Enter the number of AAPL stocks theat you want to buy'\u001b[0m\u001b[0;34m)\u001b[0m\u001b[0;34m\u001b[0m\u001b[0;34m\u001b[0m\u001b[0m\n\u001b[0;32m----> 5\u001b[0;31m \u001b[0mprint\u001b[0m\u001b[0;34m(\u001b[0m\u001b[0;34m'Total funds required to buy {} shares of AAPL stock at {} dollars is {}'\u001b[0m\u001b[0;34m.\u001b[0m\u001b[0mformat\u001b[0m\u001b[0;34m(\u001b[0m\u001b[0my\u001b[0m\u001b[0;34m,\u001b[0m\u001b[0mx\u001b[0m\u001b[0;34m,\u001b[0m \u001b[0mx\u001b[0m\u001b[0;34m*\u001b[0m\u001b[0my\u001b[0m\u001b[0;34m)\u001b[0m\u001b[0;34m)\u001b[0m\u001b[0;34m\u001b[0m\u001b[0;34m\u001b[0m\u001b[0m\n\u001b[0m",
            "\u001b[0;31mTypeError\u001b[0m: can't multiply sequence by non-int of type 'str'"
          ]
        }
      ]
    },
    {
      "cell_type": "code",
      "metadata": {
        "id": "abPg-86q7Waq",
        "outputId": "de99ee52-7924-455d-843e-a689a5ee8945",
        "colab": {
          "base_uri": "https://localhost:8080/"
        }
      },
      "source": [
        "# Convert from string datatype to integer datatype prior to performing addition\n",
        "x = input('please enter the price of AAPL stock today')\n",
        "x = int(x)\n",
        "y = input('Enter the number of AAPL stocks theat you want to buy')\n",
        "y = int(y)\n",
        "\n",
        "print('Total funds required to buy {} shares of AAPL stock at {} dollars is {}'.format(y,x, x*y))"
      ],
      "execution_count": 6,
      "outputs": [
        {
          "output_type": "stream",
          "text": [
            "please enter the price of AAPL stock today3000\n",
            "Enter the number of AAPL stocks theat you want to buy20\n",
            "Total funds required to buy 20 shares of AAPL stock at 3000 dollars is 60000\n"
          ],
          "name": "stdout"
        }
      ]
    },
    {
      "cell_type": "markdown",
      "metadata": {
        "id": "L8v5D4y1CIUQ"
      },
      "source": [
        "**MINI CHALLENGE #8:** \n",
        "- **Write a code that takes in the name of the stock, price at which it is selling, the number of stocks that you want to own and prints out the total funds required to buy this stock. Find a sample expected output below:**\n",
        "\n",
        "  - Enter the price of the stock you want to buy: 3000  \n",
        "  - Enter the number of stocks that you want to buy: 5\n",
        "  - Enter the name of the stock that you want to buy: AMZN\n",
        "  - The total funds required to buy 5 number of AMZN stocks at 3000 is 15000\n"
      ]
    },
    {
      "cell_type": "code",
      "metadata": {
        "id": "9YhMGHRvqMNQ",
        "outputId": "3dc20df7-6f0c-448c-9067-05e785e3fdef",
        "colab": {
          "base_uri": "https://localhost:8080/"
        }
      },
      "source": [
        "x = input('please enter the price of the srock:')\n",
        "x = int(x)\n",
        "y = input('please enter the number of stocks you want to buy:')\n",
        "y = int(y)\n",
        "name = input('please enter the stocks symbol:')\n",
        "print('The total funds required to buy {} number of {} stocks at {} is {}'.format(x, name, y, x*y))"
      ],
      "execution_count": 12,
      "outputs": [
        {
          "output_type": "stream",
          "text": [
            "please enter the price of the srock:3000\n",
            "please enter the number of stocks you want to buy:5\n",
            "please enter the stocks symbol:AMZN\n",
            "The total funds required to buy 3000 number of AMZN stocks at 5 is 15000\n"
          ],
          "name": "stdout"
        }
      ]
    },
    {
      "cell_type": "markdown",
      "metadata": {
        "id": "Jm-0XhPntGtK"
      },
      "source": [
        "# EXCELLENT JOB"
      ]
    },
    {
      "cell_type": "markdown",
      "metadata": {
        "id": "_wuaDbzWm-i8"
      },
      "source": [
        "# MINI CHALLENGES SOLUTIONS"
      ]
    },
    {
      "cell_type": "markdown",
      "metadata": {
        "id": "Xq-Y8OW0nG8O"
      },
      "source": [
        "**MINI CHALLENGE #1:**\n",
        "- **We defined a variable AMZN (Ticker symbol for Amazon stock) and we assigned these 3 values listed below to it. Without executing any code cells, what will these lines of code generate?**\n",
        "- **Verify your answer by executing the code cells** \n",
        "\n",
        "\n",
        "\n",
        "```\n",
        "AMZN = 3324\n",
        "AMZN = 3400\n",
        "AMZN = 3530\n",
        "AMZN\n",
        "```\n"
      ]
    },
    {
      "cell_type": "code",
      "metadata": {
        "id": "R_CHNPWbnAf0"
      },
      "source": [
        "# The output of this code is 3530\n",
        "# Initially we put 3324 in AMZN, then we overwrite it by placing 3400 in AMZN, and then 3530 in AMZN\n",
        "AMZN = 3324\n",
        "AMZN = 3400\n",
        "AMZN = 3530\n",
        "AMZN"
      ],
      "execution_count": null,
      "outputs": []
    },
    {
      "cell_type": "markdown",
      "metadata": {
        "id": "0tFG_HiJoWiM"
      },
      "source": [
        "**MINI CHALLENGE #2:**\n",
        "- **We defined a variable AAPL (Ticker symbol for Apple stock) and we assigned these 2 values listed below to it. Without executing any code cells, what will these lines of code generate?**\n",
        "- **Verify your answer by executing the code cells** \n",
        "\n",
        "\n",
        "\n",
        "```\n",
        "AAPL = 112\n",
        "AAPL = 115.3\n",
        "type(AAPL)\n",
        "```"
      ]
    },
    {
      "cell_type": "code",
      "metadata": {
        "id": "p449NLcAnCbu"
      },
      "source": [
        "AAPL = 112\n",
        "AAPL = 115.3\n",
        "type(AAPL)"
      ],
      "execution_count": null,
      "outputs": []
    },
    {
      "cell_type": "markdown",
      "metadata": {
        "id": "ayH1UnrYYokG"
      },
      "source": [
        "**MINI CHALLENGE #3 SOLUTION:** \n",
        "- **Write a code that calculates the total value of a portfolio assuming that you own 15 Google stocks (Sticker Symbol: GOOG) priced at 1500 each** \n"
      ]
    },
    {
      "cell_type": "code",
      "metadata": {
        "id": "6XGSaa4uoZgs"
      },
      "source": [
        "price  = 1500\n",
        "x  = 15\n",
        "amount = x * price\n",
        "amount"
      ],
      "execution_count": null,
      "outputs": []
    },
    {
      "cell_type": "markdown",
      "metadata": {
        "id": "kfyhdekfaUnr"
      },
      "source": [
        "**MINI CHALLENGE #4 SOLUTION:**\n",
        "- **Write a code that takes in Google (GOOG) stock prices at two days and calculate the return:**\n",
        "  - **GOOG price on day 1 = \\$260** \n",
        "  - **GOOG price on day 2 = \\$280**"
      ]
    },
    {
      "cell_type": "code",
      "metadata": {
        "id": "SUdMEr51Y0cR"
      },
      "source": [
        "GOOG_price_1 = 260\n",
        "GOOG_price_2 = 280\n",
        "\n",
        "price_diff = GOOG_price_2 - GOOG_price_1\n",
        "percentage_change = price_diff / GOOG_price_1 * 100\n",
        "\n",
        "percentage_change"
      ],
      "execution_count": null,
      "outputs": []
    },
    {
      "cell_type": "markdown",
      "metadata": {
        "id": "fSJnUnEvdv3T"
      },
      "source": [
        "**MINI CHALLENGE #5 SOLUTION:**\n",
        "- **Assume that you own 15 shares of AAPL stock priced at \\$150 a share. Apple announced the launch of 5 new products with exceptional features so the stock price increased to $170 a share. Calculate the total profit.**\n"
      ]
    },
    {
      "cell_type": "code",
      "metadata": {
        "id": "xf-UX5aFd11W"
      },
      "source": [
        "AAPL_new = 170\n",
        "AAPL_old = 150\n",
        "num_shares = 15\n",
        "profit = (AAPL_new - AAPL_old) * num_shares   \n",
        "profit"
      ],
      "execution_count": null,
      "outputs": []
    },
    {
      "cell_type": "markdown",
      "metadata": {
        "id": "z0zgdSWqc2oa"
      },
      "source": [
        "**MINI CHALLENGE #6 SOLUTION:** \n",
        "- **Write a code that performs the following mathematical operation: z = |x − y| * (x + y)**"
      ]
    },
    {
      "cell_type": "code",
      "metadata": {
        "id": "zILwh7ILc4kq"
      },
      "source": [
        "x = 4\n",
        "y = 2\n",
        "z = abs(x-y) * (x+y)"
      ],
      "execution_count": null,
      "outputs": []
    },
    {
      "cell_type": "markdown",
      "metadata": {
        "id": "GSto5juvGlGM"
      },
      "source": [
        "**MINI CHALLENGE #7 SOLUTION:**\n",
        "- **Write a code that print out the above statement along with AAPL ticker**\n",
        "- **i.e.: I own 30 shares of Apple Inc.(AAPL)** "
      ]
    },
    {
      "cell_type": "code",
      "metadata": {
        "id": "6YfhUSPhGn46"
      },
      "source": [
        "ticker = 'AAPL'\n",
        "print(\"I own {} shares of {}({})\".format(shares, company_name, ticker))"
      ],
      "execution_count": null,
      "outputs": []
    },
    {
      "cell_type": "markdown",
      "metadata": {
        "id": "iKU27yueFUoI"
      },
      "source": [
        "**MINI CHALLENGE #8 SOLUTION:** \n",
        "- **Write a code that takes in the name of the stock, price at which it is selling, the number of stocks that you want to own and prints out the total funds required to buy this stock. Find a sample expected output below:**\n",
        "\n",
        "  - Enter the price of the stock you want to buy: 3000  \n",
        "  - Enter the number of stocks that you want to buy: 5\n",
        "  - Enter the name of the stock that you want to buy: AMZN\n",
        "  - The total funds required to buy 5 number of AMZN stocks at 3000 is 15000\n",
        "\n"
      ]
    },
    {
      "cell_type": "code",
      "metadata": {
        "id": "YsOyGpwiFWDK"
      },
      "source": [
        "x = input(\"Enter the price of the stock you want to buy: \")\n",
        "x = int(x)\n",
        "y = input(\"Enter the number of stocks that you want to buy: \")\n",
        "y = int(y)\n",
        "z = input(\"Enter the name of the stock that you want to buy: \")\n",
        "print('The total funds required to buy {} number of {} stocks at {} is {}'.format(y,z,x, x*y)) "
      ],
      "execution_count": null,
      "outputs": []
    },
    {
      "cell_type": "code",
      "metadata": {
        "id": "CDRHLx0Tah7T"
      },
      "source": [
        ""
      ],
      "execution_count": null,
      "outputs": []
    }
  ]
}